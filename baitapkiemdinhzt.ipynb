{
  "nbformat": 4,
  "nbformat_minor": 0,
  "metadata": {
    "kernelspec": {
      "display_name": "Python 3",
      "language": "python",
      "name": "python3"
    },
    "language_info": {
      "codemirror_mode": {
        "name": "ipython",
        "version": 3
      },
      "file_extension": ".py",
      "mimetype": "text/x-python",
      "name": "python",
      "nbconvert_exporter": "python",
      "pygments_lexer": "ipython3",
      "version": "3.7.3"
    },
    "colab": {
      "name": "baitapkiemdinhzt.ipynb",
      "provenance": []
    }
  },
  "cells": [
    {
      "cell_type": "markdown",
      "metadata": {
        "id": "63h2OGFBGcry"
      },
      "source": [
        "XÂY DỰNG CHƯƠNG TRÌNH KIỂM ĐỊNH Z (HOẶC T) CHO CÁC BÀI TẬP SAU\n",
        "\n",
        "Gợi ý:\n",
        "\n",
        "- Số liệu được sinh ngẫu nhiên theo phân phối chuẩn\n",
        "- Sử dụng gói phần mềm statsmodels để tiến hành kiểm định\n",
        "- Đối với các bài tập kiểm định giả thuyết thì sinh viên cần phát biểu các giả thuyết (bằng tiếng Việt) $H_{0}$ và $H_{a}$ trước khi lập trình kiểm định"
      ]
    },
    {
      "cell_type": "code",
      "metadata": {
        "colab": {
          "base_uri": "https://localhost:8080/"
        },
        "id": "WIrZHi9NG6qU",
        "outputId": "c73759b3-6da0-4fa0-e7c7-0e9791e36817"
      },
      "source": [
        "!pip install scipy==1.6.2"
      ],
      "execution_count": 1,
      "outputs": [
        {
          "output_type": "stream",
          "text": [
            "Collecting scipy==1.6.2\n",
            "\u001b[?25l  Downloading https://files.pythonhosted.org/packages/75/91/ee427c42957f8c4cbe477bf4f8b7f608e003a17941e509d1777e58648cb3/scipy-1.6.2-cp37-cp37m-manylinux1_x86_64.whl (27.4MB)\n",
            "\u001b[K     |████████████████████████████████| 27.4MB 145kB/s \n",
            "\u001b[?25hRequirement already satisfied: numpy<1.23.0,>=1.16.5 in /usr/local/lib/python3.7/dist-packages (from scipy==1.6.2) (1.19.5)\n",
            "\u001b[31mERROR: albumentations 0.1.12 has requirement imgaug<0.2.7,>=0.2.5, but you'll have imgaug 0.2.9 which is incompatible.\u001b[0m\n",
            "Installing collected packages: scipy\n",
            "  Found existing installation: scipy 1.4.1\n",
            "    Uninstalling scipy-1.4.1:\n",
            "      Successfully uninstalled scipy-1.4.1\n",
            "Successfully installed scipy-1.6.2\n"
          ],
          "name": "stdout"
        }
      ]
    },
    {
      "cell_type": "code",
      "metadata": {
        "id": "EkSuyQ-lHeQ-",
        "colab": {
          "base_uri": "https://localhost:8080/"
        },
        "outputId": "eeaaf51b-ee87-44ed-bcb2-2ad358c32743"
      },
      "source": [
        "import numpy as np\n",
        "import scipy\n",
        "from scipy import stats\n",
        "import random\n",
        "from statsmodels.stats.weightstats import ztest"
      ],
      "execution_count": 2,
      "outputs": [
        {
          "output_type": "stream",
          "text": [
            "/usr/local/lib/python3.7/dist-packages/statsmodels/tools/_testing.py:19: FutureWarning: pandas.util.testing is deprecated. Use the functions in the public API at pandas.testing instead.\n",
            "  import pandas.util.testing as tm\n"
          ],
          "name": "stderr"
        }
      ]
    },
    {
      "cell_type": "markdown",
      "metadata": {
        "id": "Q6fTsyXwGcrz"
      },
      "source": [
        "Bài 1: You’re a Q/C inspector for Gallo. The sample standard deviation for 2-liter bottles is .05 liters.  A random sample of 100 bottles showed sasmple mean = 1.99 liters.  What is the 90%  confidence interval estimate of the true mean amount in 2-liter bottles? "
      ]
    },
    {
      "cell_type": "code",
      "metadata": {
        "id": "KszfFMXlGcr0",
        "colab": {
          "base_uri": "https://localhost:8080/"
        },
        "outputId": "2d54399d-ca78-4fb4-afb9-08aca77cea1e"
      },
      "source": [
        "n1 = 100\n",
        "std1 = 0.05\n",
        "mean1 = 1.99\n",
        "mau1 = np.random.normal(mean1, std1, n1)\n",
        "print(mau1[:10])\n",
        "alpha1 = 0.1\n",
        "null_mean1 = 2\n",
        "zscore1, p_value1 = ztest(mau1, value=null_mean1, alternative='larger')\n",
        "if(p_value1 <  alpha1):\n",
        "  print(\"Có bằng chứng để bác bỏ giả thuyết H0\")\n",
        "else:\n",
        "  print(\"Chưa có bằng chứng để bác bỏ giả thuyết H0\")"
      ],
      "execution_count": 3,
      "outputs": [
        {
          "output_type": "stream",
          "text": [
            "[1.96946305 2.00062269 1.97380256 2.0101504  2.06529823 1.98830211\n",
            " 2.07110539 1.89374658 1.89891664 2.01461815]\n",
            "Chưa có bằng chứng để bác bỏ giả thuyết H0\n"
          ],
          "name": "stdout"
        }
      ]
    },
    {
      "cell_type": "markdown",
      "metadata": {
        "id": "zEbFR83mGcr0"
      },
      "source": [
        "Bài 2: You’re a time study analyst in manufacturing.  You’ve recorded the following task times (min.): 3.6, 4.2, 4.0, 3.5, 3.8, 3.1. What is the 90% confidence interval estimate of the population mean task time? "
      ]
    },
    {
      "cell_type": "code",
      "metadata": {
        "id": "l2uLsv-UGcr1",
        "colab": {
          "base_uri": "https://localhost:8080/"
        },
        "outputId": "46a76c31-f5fa-461a-c532-fa749fb21a19"
      },
      "source": [
        "a = [3.6, 4.2, 4.0, 3.5, 3.8, 3.1]\n",
        "n2 = len(a)\n",
        "mean2 = np.mean(a)\n",
        "std2 = np.std(a)\n",
        "alpha2 = 0.1\n",
        "null_mean2 = mean2\n",
        "t_test_score2, p_value2 = stats.ttest_1samp(a, mean2,alternative='two-sided')\n",
        "if(p_value2 <  alpha2):\n",
        "  print(\"Có bằng chứng để bác bỏ giả thuyết H0\")\n",
        "else:\n",
        "  print(\"Chưa có bằng chứng để bác bỏ giả thuyết H0\")"
      ],
      "execution_count": 4,
      "outputs": [
        {
          "output_type": "stream",
          "text": [
            "Chưa có bằng chứng để bác bỏ giả thuyết H0\n"
          ],
          "name": "stdout"
        }
      ]
    },
    {
      "cell_type": "markdown",
      "metadata": {
        "id": "Lu3TYfSqGcr1"
      },
      "source": [
        "Bài 3: Does an average box of cereal contain 368 grams of cereal?  A random sample of 25 boxes had $\\overline{\\rm x}$ = 372.5.  The company has specified $\\sigma$ to be 25 grams.  Test at the .05 level of significance."
      ]
    },
    {
      "cell_type": "code",
      "metadata": {
        "id": "PqLVLGLUGcr1",
        "colab": {
          "base_uri": "https://localhost:8080/"
        },
        "outputId": "5ce627f5-a3cc-45e2-98ec-6e9a4a187b43"
      },
      "source": [
        "n3 = 25\n",
        "std3 = 25\n",
        "mean3 = 372.5\n",
        "mau3 = np.random.normal(mean3, std3, n3)\n",
        "print(mau3[:10])\n",
        "alpha3 = 0.05\n",
        "null_mean3 = 368\n",
        "t_test_score3, p_value3 = scipy.stats.ttest_1samp(mau3, null_mean3, alternative='two-sided')\n",
        "if(p_value3 <  alpha3):\n",
        "  print(\"Có bằng chứng để bác bỏ giả thuyết H0\")\n",
        "else:\n",
        "  print(\"Chưa có bằng chứng để bác bỏ giả thuyết H0\")"
      ],
      "execution_count": 6,
      "outputs": [
        {
          "output_type": "stream",
          "text": [
            "[346.03229695 362.41755099 385.72944001 354.89533352 354.59850053\n",
            " 326.47359544 376.6018703  417.19446399 358.94424599 389.15171693]\n",
            "Chưa có bằng chứng để bác bỏ giả thuyết H0\n"
          ],
          "name": "stdout"
        }
      ]
    },
    {
      "cell_type": "markdown",
      "metadata": {
        "id": "nSCXQleJGcr2"
      },
      "source": [
        "Bài 4: You’re a Q/C inspector.  You want to find out if a new machine is making electrical cords to customer specification: average breaking strength of 70 lb. with $\\sigma$ = 3.5 lb.  You take a sample of 36 cords & compute a sample mean of 69.7 lb.  At the .05 level of significance, is there evidence that the machine is not meeting the average breaking strength?"
      ]
    },
    {
      "cell_type": "code",
      "metadata": {
        "id": "2t8XI1AeGcr2",
        "colab": {
          "base_uri": "https://localhost:8080/"
        },
        "outputId": "86b45258-ebd5-487f-dbef-9178d0bea4cc"
      },
      "source": [
        "mean4 = 69.7\n",
        "std4 = 3.5\n",
        "n4 = 36\n",
        "alpha4 = 0.05\n",
        "null_mean4 = 70\n",
        "mau4 = np.random.normal(mean4, std4, n4)\n",
        "print(mau4[:10])\n",
        "ztest_Score4, p_value4 = ztest(mau4, value = null_mean4, alternative='larger')\n",
        "if(p_value4 <  alpha4):\n",
        "  print(\"Có bằng chứng để bác bỏ giả thuyết H0\")\n",
        "else:\n",
        "  print(\"Chưa có bằng chứng để bác bỏ giả thuyết H0\")"
      ],
      "execution_count": 7,
      "outputs": [
        {
          "output_type": "stream",
          "text": [
            "[72.65817746 75.33312698 68.10690931 72.17598281 73.44195923 65.59846365\n",
            " 71.32985548 64.77314142 67.75187024 71.64536537]\n",
            "Chưa có bằng chứng để bác bỏ giả thuyết H0\n"
          ],
          "name": "stdout"
        }
      ]
    },
    {
      "cell_type": "markdown",
      "metadata": {
        "id": "IlQMk5K3Gcr2"
      },
      "source": [
        "Bài 5: Does an average box of cereal contain more than 368 grams of cereal?  A random sample of 25 boxes showed $\\overline{\\rm x}$ =  372.5.  The company has specified $\\sigma$ to be 25 grams.  Test at the .05 level of significance."
      ]
    },
    {
      "cell_type": "code",
      "metadata": {
        "id": "2tTT0EOlGcr2",
        "colab": {
          "base_uri": "https://localhost:8080/"
        },
        "outputId": "0b70e325-f9f3-49ff-bbfe-a6c33c49e3f2"
      },
      "source": [
        "n5 = 25\n",
        "mean5 = 372.5\n",
        "std5 = 25\n",
        "alpha5 = 0.05\n",
        "null_mean5 = 368\n",
        "mau5 = np.random.normal(mean5, std5, n5)\n",
        "print(mau5[:10])\n",
        "t_test_score5, p_value5 = scipy.stats.ttest_1samp(mau5, null_mean5, alternative='two-sided')\n",
        "if(p_value5 <  alpha5):\n",
        "  print(\"Có bằng chứng để bác bỏ giả thuyết H0\")\n",
        "else:\n",
        "  print(\"Chưa có bằng chứng để bác bỏ giả thuyết H0\")"
      ],
      "execution_count": 8,
      "outputs": [
        {
          "output_type": "stream",
          "text": [
            "[355.93537808 424.40052794 402.54998669 370.32670645 423.26712194\n",
            " 350.23159466 360.5008531  341.92237088 394.19277596 366.87432208]\n",
            "Chưa có bằng chứng để bác bỏ giả thuyết H0\n"
          ],
          "name": "stdout"
        }
      ]
    },
    {
      "cell_type": "markdown",
      "metadata": {
        "id": "5YtLeTMJGcr2"
      },
      "source": [
        "Bài 6: You’re an analyst for Ford.  You want to find out if the average miles per gallon of Escorts is at least 32 mpg. Similar models have a standard deviation of 3.8 mpg. You take a sample of 60 Escorts & compute a sample mean of 30.7 mpg. At the .01 level of significance, is there evidence that the miles per gallon is less than 32?"
      ]
    },
    {
      "cell_type": "code",
      "metadata": {
        "id": "jCTxsn0FGcr3",
        "colab": {
          "base_uri": "https://localhost:8080/"
        },
        "outputId": "e223ecb1-6a64-41ee-d2f4-7277999996d4"
      },
      "source": [
        "mean6 = 30.7\n",
        "std6 = 3.8\n",
        "n6 = 60\n",
        "alpha6 = 0.01\n",
        "null_mean6 = 32\n",
        "mau6 = np.random.normal(mean6, std6, n6)\n",
        "print(mau6[:10])\n",
        "ztest_Score6, p_value6= ztest(mau6, value = null_mean6, alternative='smaller')\n",
        "if(p_value6 <  alpha6):\n",
        "  print(\"Có bằng chứng để bác bỏ giả thuyết H0\")\n",
        "else:\n",
        "  print(\"Chưa có bằng chứng để bác bỏ giả thuyết H0\")"
      ],
      "execution_count": 9,
      "outputs": [
        {
          "output_type": "stream",
          "text": [
            "[22.69456689 30.51190349 29.65180832 34.3293113  27.76593055 29.67460287\n",
            " 30.76100672 32.8507738  33.40835283 26.28579568]\n",
            "Chưa có bằng chứng để bác bỏ giả thuyết H0\n"
          ],
          "name": "stdout"
        }
      ]
    },
    {
      "cell_type": "markdown",
      "metadata": {
        "id": "UTrM2RcrGcr3"
      },
      "source": [
        "Bài 7: Does an average box of cereal contain 368 grams of cereal?  A random sample of 25 boxes showed $\\overline{\\rm x}$ = 372.5.  The company has specified $\\sigma$ to be 15 grams.  Find the p-Value."
      ]
    },
    {
      "cell_type": "code",
      "metadata": {
        "id": "2W8n2ivpGcr3",
        "colab": {
          "base_uri": "https://localhost:8080/"
        },
        "outputId": "d3decee5-4fb1-46d7-91a0-0465e65a851c"
      },
      "source": [
        "mean7 = 372.5\n",
        "std7 = 15\n",
        "n7 = 25\n",
        "null_mean7 = 368\n",
        "mau7 = np.random.normal(mean7, std7, n7)\n",
        "print(mau7[:10])\n",
        "t_test_score7, p_value7 = scipy.stats.ttest_1samp(mau7, null_mean7, alternative='two-sided')\n",
        "print(p_value7)"
      ],
      "execution_count": 10,
      "outputs": [
        {
          "output_type": "stream",
          "text": [
            "[377.57359375 377.38834151 372.24727668 358.03082577 359.70803884\n",
            " 372.29211813 381.017282   368.90370026 382.31309925 388.22918488]\n",
            "0.07909549748068488\n"
          ],
          "name": "stdout"
        }
      ]
    },
    {
      "cell_type": "markdown",
      "metadata": {
        "id": "gwI5l8PWGcr3"
      },
      "source": [
        "Bài 8: Does an average box of cereal contain more than 368 grams of cereal?  A random sample of 25 boxes showed $\\overline{\\rm x}$ = 372.5.  The company has specified $\\sigma$ to be 15 grams.  Find the p-Value."
      ]
    },
    {
      "cell_type": "code",
      "metadata": {
        "id": "jpyGgabJGcr3",
        "colab": {
          "base_uri": "https://localhost:8080/"
        },
        "outputId": "9de6c950-9c1e-4b2d-b776-9b54f9bf1171"
      },
      "source": [
        "mean8 = 372.5\n",
        "std8 = 15\n",
        "n8 = 25\n",
        "null_mean8 = 368\n",
        "mau8 = np.random.normal(mean8, std8, n8)\n",
        "print(mau8[:10])\n",
        "t_test_score8, p_value8 = scipy.stats.ttest_1samp(mau8, null_mean8, alternative='two-sided')\n",
        "print(p_value8)"
      ],
      "execution_count": 11,
      "outputs": [
        {
          "output_type": "stream",
          "text": [
            "[366.20072605 366.84864186 332.31216251 389.84593328 388.79489922\n",
            " 354.2500531  382.71120618 366.38700257 366.50714863 382.59373291]\n",
            "0.17471806489271133\n"
          ],
          "name": "stdout"
        }
      ]
    },
    {
      "cell_type": "markdown",
      "metadata": {
        "id": "CSk_zAYRGcr4"
      },
      "source": [
        "Bài 9: You’re an analyst for Ford.  You want to find out if the average miles per gallon of Escorts is less than 32 mpg.   Similar models have a standard deviation of 3.8 mpg.  You take a sample of 60 Escorts & compute a sample mean of 30.7 mpg.  What is the value of the observed level of significance (p-Value)?"
      ]
    },
    {
      "cell_type": "code",
      "metadata": {
        "id": "6MTzYMJCGcr4",
        "colab": {
          "base_uri": "https://localhost:8080/"
        },
        "outputId": "bc9e768d-0d4b-42ca-8235-188ad42cbae8"
      },
      "source": [
        "n9 = 60\n",
        "std9 = 3.8\n",
        "mean9 = 30.7\n",
        "null_mean9 = 32\n",
        "mau9 = np.random.normal(mean9, std9, n9)\n",
        "print(mau9[:10])\n",
        "ztest_Score9, p_value9= ztest(mau9, value = null_mean9, alternative='smaller')\n",
        "print(p_value9)"
      ],
      "execution_count": 12,
      "outputs": [
        {
          "output_type": "stream",
          "text": [
            "[31.61501957 26.90997106 27.96545884 34.05599706 31.62505496 36.64136966\n",
            " 28.74332477 21.77044845 27.02205641 34.52065088]\n",
            "0.004940407098648115\n"
          ],
          "name": "stdout"
        }
      ]
    },
    {
      "cell_type": "markdown",
      "metadata": {
        "id": "my318NFvGcr4"
      },
      "source": [
        "Bài 10: Does an average box of cereal contain 368 grams of cereal?  A random sample of 36 boxes had a mean of 372.5 and a standard deviation of 12 grams. Test at the .05 level of significance."
      ]
    },
    {
      "cell_type": "code",
      "metadata": {
        "id": "iIk_sTLhGcr4",
        "colab": {
          "base_uri": "https://localhost:8080/"
        },
        "outputId": "2dbf88aa-1b9a-4452-d164-26708e2d1e17"
      },
      "source": [
        "n10 = 36\n",
        "std10 = 12\n",
        "mean10 = 372.5\n",
        "null_mean10 = 368\n",
        "alpha10 = 0.05\n",
        "mau10 = np.random.normal(mean10, std10, n10)\n",
        "print(mau10[:10])\n",
        "ztest_Score10, p_value10= ztest(mau10, value = null_mean10, alternative='two-sided')\n",
        "if(p_value10 <  alpha10):\n",
        "  print(\"Có bằng chứng để bác bỏ giả thuyết H0\")\n",
        "else:\n",
        "  print(\"Chưa có bằng chứng để bác bỏ giả thuyết H0\")"
      ],
      "execution_count": 13,
      "outputs": [
        {
          "output_type": "stream",
          "text": [
            "[355.16743925 366.73346103 364.2288032  365.41493039 382.36856289\n",
            " 378.5517841  368.25513657 363.36435756 363.07903604 361.42483308]\n",
            "Có bằng chứng để bác bỏ giả thuyết H0\n"
          ],
          "name": "stdout"
        }
      ]
    },
    {
      "cell_type": "markdown",
      "metadata": {
        "id": "AYsZdf8tGcr4"
      },
      "source": [
        "Bài 11: You work for the FTC.  A manufacturer of detergent claims that the mean weight of detergent is 3.25 lb.  You take a random sample of 64 containers.  You calculate the sample average to be 3.238 lb. with a standard deviation of .117 lb.  At the .01 level of significance, is the manufacturer correct?"
      ]
    },
    {
      "cell_type": "code",
      "metadata": {
        "id": "NPUf9BBCGcr5",
        "colab": {
          "base_uri": "https://localhost:8080/"
        },
        "outputId": "01696324-93a5-4e2b-e534-162f9c127aac"
      },
      "source": [
        "n11 = 64\n",
        "mean11 = 3.238\n",
        "std11 = 0.117\n",
        "null_mean11 = 3.25\n",
        "alpha11 = 0.01\n",
        "mau11 = np.random.normal(mean11, std11, n11)\n",
        "print(mau11[:10])\n",
        "ztest_Score11, p_value11= ztest(mau11, value = null_mean11, alternative='two-sided')\n",
        "if(p_value11 <  alpha11):\n",
        "  print(\"Có bằng chứng để bác bỏ giả thuyết H0\")\n",
        "else:\n",
        "  print(\"Chưa có bằng chứng để bác bỏ giả thuyết H0\")"
      ],
      "execution_count": 14,
      "outputs": [
        {
          "output_type": "stream",
          "text": [
            "[3.28047427 3.23993814 3.23325144 3.08134252 3.26847563 3.41723203\n",
            " 3.3748563  3.22782362 3.23374923 3.13334068]\n",
            "Chưa có bằng chứng để bác bỏ giả thuyết H0\n"
          ],
          "name": "stdout"
        }
      ]
    },
    {
      "cell_type": "markdown",
      "metadata": {
        "id": "dvSXEb4hGcr5"
      },
      "source": [
        "Bài 12: Is the average capacity of batteries less than 140 ampere-hours?  A random sample of 20 batteries had a mean of 138.47 and a standard deviation of 2.66.  Assume a normal distribution. Test at the .05 level of significance."
      ]
    },
    {
      "cell_type": "code",
      "metadata": {
        "id": "PzSX477sGcr5",
        "colab": {
          "base_uri": "https://localhost:8080/"
        },
        "outputId": "ccfb3d1c-982f-468a-8201-9f47b436bd5a"
      },
      "source": [
        "n12 = 20\n",
        "mean12 = 138.47\n",
        "std12 = 2.66\n",
        "null_mean12 = 140\n",
        "alpha12 = 0.05\n",
        "mau12 = np.random.normal(mean12, std12, n12)\n",
        "print(mau12[:10])\n",
        "t_test_score12, p_value12 = scipy.stats.ttest_1samp(mau12, null_mean12, alternative='less')\n",
        "if(p_value12 <  alpha12):\n",
        "  print(\"Có bằng chứng để bác bỏ giả thuyết H0\")\n",
        "else:\n",
        "  print(\"Chưa có bằng chứng để bác bỏ giả thuyết H0\")"
      ],
      "execution_count": 15,
      "outputs": [
        {
          "output_type": "stream",
          "text": [
            "[142.95122618 142.04948657 139.27652825 131.25918902 138.32516591\n",
            " 136.53642917 140.67637266 137.84652772 141.26967942 141.25302993]\n",
            "Có bằng chứng để bác bỏ giả thuyết H0\n"
          ],
          "name": "stdout"
        }
      ]
    },
    {
      "cell_type": "markdown",
      "metadata": {
        "id": "E-UABxqXGcr5"
      },
      "source": [
        "Bài 13: You’re a marketing analyst for Wal-Mart.  Wal-Mart had teddy bears on sale last week.  The weekly sales of bears sold in 10 stores was: 8  11  0   4   7   8   10   5   8   3. At the .05 level of significance, is there evidence that the average bear sales per store is more than 5?"
      ]
    },
    {
      "cell_type": "code",
      "metadata": {
        "id": "2k64x_WqGcr5",
        "colab": {
          "base_uri": "https://localhost:8080/"
        },
        "outputId": "1930fbbc-456a-4ad1-ac8e-77e0c1c85fdc"
      },
      "source": [
        "mau13 = [8, 11, 0, 4, 7, 8, 10, 5, 8, 3]\n",
        "alpha13 = 0.05\n",
        "null_mean13 = 5\n",
        "t_test_score13, p_value13 = scipy.stats.ttest_1samp(mau13, null_mean13, alternative='greater')\n",
        "if(p_value13 <  alpha13):\n",
        "  print(\"Có bằng chứng để bác bỏ giả thuyết H0\")\n",
        "else:\n",
        "  print(\"Chưa có bằng chứng để bác bỏ giả thuyết H0\")"
      ],
      "execution_count": 16,
      "outputs": [
        {
          "output_type": "stream",
          "text": [
            "Chưa có bằng chứng để bác bỏ giả thuyết H0\n"
          ],
          "name": "stdout"
        }
      ]
    },
    {
      "cell_type": "code",
      "metadata": {
        "id": "7vn86F8LGcr5"
      },
      "source": [
        ""
      ],
      "execution_count": null,
      "outputs": []
    }
  ]
}